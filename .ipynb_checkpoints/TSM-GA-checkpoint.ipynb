{
 "cells": [
  {
   "cell_type": "markdown",
   "metadata": {},
   "source": [
    "# Traveling Salesman Problem Algorithm using Genetic Algorithms\n",
    "\n",
    "This notebook implements a genetic algorithm, that tries to \"solve\" the traveling salesman problem."
   ]
  },
  {
   "cell_type": "code",
   "execution_count": 25,
   "metadata": {},
   "outputs": [],
   "source": [
    "import random\n",
    "import math\n",
    "from IPython.core.debugger import set_trace\n",
    "from IPython.display import clear_output"
   ]
  },
  {
   "cell_type": "code",
   "execution_count": 26,
   "metadata": {},
   "outputs": [],
   "source": [
    "cities = []\n",
    "numCities = 10\n",
    "\n",
    "# The total size of the area, in which we will generate the cities\n",
    "areaX = 20\n",
    "areaY = 20\n",
    "\n",
    "bestEver = []\n",
    "recordDistance = 1e7\n",
    "currentBest = []\n",
    "\n",
    "population = []\n",
    "numPopulation = 600\n",
    "fitness = []\n",
    "\n",
    "masterOrder = [x for x in range(numCities)]\n",
    "# generate a random cities with position tuples of (x,y)\n",
    "for i in range(numCities):\n",
    "    newCity = (random.randint(1,areaX), random.randint(1,areaX))\n",
    "    \n",
    "    while newCity in cities:\n",
    "        newCity = (random.randint(1,areaX), random.randint(1,areaY))\n",
    "        \n",
    "    cities.append(newCity)\n",
    "    "
   ]
  },
  {
   "cell_type": "code",
   "execution_count": 27,
   "metadata": {},
   "outputs": [],
   "source": [
    "# generate a population for the genetic algorithm\n",
    "for i in range(numPopulation):\n",
    "    order = random.sample(masterOrder, k=len(masterOrder))\n",
    "    population.append(order)"
   ]
  },
  {
   "cell_type": "code",
   "execution_count": 28,
   "metadata": {},
   "outputs": [],
   "source": [
    "# calculates the distance of a give order\n",
    "def calcDistance(order):\n",
    "    dist = 0\n",
    "    for i in range(len(order)-1):\n",
    "        #set_trace()\n",
    "        dist += math.sqrt( (cities[order[i+1]][0] - cities[order[i]][0])**2 + (cities[order[i+1]][1] - cities[order[i]][1])**2 )\n",
    "    return dist"
   ]
  },
  {
   "cell_type": "code",
   "execution_count": 29,
   "metadata": {},
   "outputs": [],
   "source": [
    "# calculates the fitness values for the generated population\n",
    "def calculateFitness():\n",
    "    currentRecord = 1e7\n",
    "    global recordDistance, bestEver\n",
    "    for i in range(numPopulation):\n",
    "        # calculate the distance of the orders in the population\n",
    "        distance = calcDistance(population[i])\n",
    "        \n",
    "        # if the ditance is better than what we have ever seen before, save it\n",
    "        if distance < recordDistance:\n",
    "            recordDistance = distance\n",
    "            bestEver = population[i]\n",
    "        \n",
    "        # if the ditance is better than what we have seen before in the population, save it\n",
    "        if distance < currentRecord:\n",
    "            currentRecord = distance\n",
    "            currentBest = population[i]\n",
    "            \n",
    "        fitness.append( 1 / (pow(distance, 8) + 1))\n",
    "        "
   ]
  },
  {
   "cell_type": "code",
   "execution_count": 30,
   "metadata": {},
   "outputs": [],
   "source": [
    "# normalize the fitness\n",
    "def normalizeFitness():\n",
    "    theSUM = 0\n",
    "    for i in range(len(fitness)):\n",
    "        theSUM += fitness[i]\n",
    "    for i in range(len(fitness)):\n",
    "        fitness[i] = fitness[i] / theSUM"
   ]
  },
  {
   "cell_type": "code",
   "execution_count": 31,
   "metadata": {},
   "outputs": [],
   "source": [
    "# pickes an element of a list by it's given probability\n",
    "def pickOne(ls,prob):\n",
    "    index = 0\n",
    "    r = random.uniform(0,1)\n",
    "    \n",
    "    while r > 0:\n",
    "        r = r - prob[index]\n",
    "        index += 1\n",
    "    \n",
    "    index -= 1\n",
    "    \n",
    "    return ls[index]"
   ]
  },
  {
   "cell_type": "code",
   "execution_count": 32,
   "metadata": {},
   "outputs": [],
   "source": [
    "# randomly mutates out order\n",
    "def mutate(order, mutationRate):\n",
    "    for i in range(numCities):\n",
    "        if random.uniform(0,1) < mutationRate:\n",
    "            index1 = math.floor(random.randint(0, len(order)-1))\n",
    "            index2 = math.floor(random.randint(0, len(order)-1))\n",
    "            #set_trace()\n",
    "            order[index1], order[index2] = order[index2], order[index1]\n",
    "            "
   ]
  },
  {
   "cell_type": "code",
   "execution_count": 33,
   "metadata": {},
   "outputs": [],
   "source": [
    "def crossOver(order1, order2):\n",
    "    start = math.floor(random.randint(0,len(order1)))\n",
    "    end = math.floor(random.randint(start,len(order1)))\n",
    "    neworder = order1[start:end]\n",
    "    #set_trace()\n",
    "    for i in range(len(order2)):\n",
    "        city = order2[i]\n",
    "        if city not in neworder:\n",
    "            neworder.append(city)\n",
    "    return neworder"
   ]
  },
  {
   "cell_type": "code",
   "execution_count": 34,
   "metadata": {},
   "outputs": [],
   "source": [
    "def nextGeneration():\n",
    "    newPopulation = []\n",
    "    global population\n",
    "    for i in range(numPopulation):\n",
    "        order1 = pickOne(population, fitness)\n",
    "        order2 = pickOne(population, fitness)\n",
    "        order = crossOver(order1, order2)\n",
    "        mutate(order,0.1)\n",
    "        newPopulation.append(order)\n",
    "    population = newPopulation"
   ]
  },
  {
   "cell_type": "code",
   "execution_count": 11,
   "metadata": {},
   "outputs": [
    {
     "name": "stdout",
     "output_type": "stream",
     "text": [
      "Searching good path...\n",
      "[136/1000] Current best order: [6, 4, 0, 9, 1, 8, 5, 3, 7, 2] with a distance of 45.22129391199569\r"
     ]
    },
    {
     "ename": "KeyboardInterrupt",
     "evalue": "",
     "output_type": "error",
     "traceback": [
      "\u001b[0;31m---------------------------------------------------------------------------\u001b[0m",
      "\u001b[0;31mKeyboardInterrupt\u001b[0m                         Traceback (most recent call last)",
      "\u001b[0;32m<timed exec>\u001b[0m in \u001b[0;36m<module>\u001b[0;34m\u001b[0m\n",
      "\u001b[0;32m<ipython-input-10-dcbe23b799f2>\u001b[0m in \u001b[0;36mnextGeneration\u001b[0;34m()\u001b[0m\n\u001b[1;32m      6\u001b[0m         \u001b[0morder2\u001b[0m \u001b[0;34m=\u001b[0m \u001b[0mpickOne\u001b[0m\u001b[0;34m(\u001b[0m\u001b[0mpopulation\u001b[0m\u001b[0;34m,\u001b[0m \u001b[0mfitness\u001b[0m\u001b[0;34m)\u001b[0m\u001b[0;34m\u001b[0m\u001b[0;34m\u001b[0m\u001b[0m\n\u001b[1;32m      7\u001b[0m         \u001b[0morder\u001b[0m \u001b[0;34m=\u001b[0m \u001b[0mcrossOver\u001b[0m\u001b[0;34m(\u001b[0m\u001b[0morder1\u001b[0m\u001b[0;34m,\u001b[0m \u001b[0morder2\u001b[0m\u001b[0;34m)\u001b[0m\u001b[0;34m\u001b[0m\u001b[0;34m\u001b[0m\u001b[0m\n\u001b[0;32m----> 8\u001b[0;31m         \u001b[0mmutate\u001b[0m\u001b[0;34m(\u001b[0m\u001b[0morder\u001b[0m\u001b[0;34m,\u001b[0m\u001b[0;36m0.1\u001b[0m\u001b[0;34m)\u001b[0m\u001b[0;34m\u001b[0m\u001b[0;34m\u001b[0m\u001b[0m\n\u001b[0m\u001b[1;32m      9\u001b[0m         \u001b[0mnewPopulation\u001b[0m\u001b[0;34m.\u001b[0m\u001b[0mappend\u001b[0m\u001b[0;34m(\u001b[0m\u001b[0morder\u001b[0m\u001b[0;34m)\u001b[0m\u001b[0;34m\u001b[0m\u001b[0;34m\u001b[0m\u001b[0m\n\u001b[1;32m     10\u001b[0m     \u001b[0mpopulation\u001b[0m \u001b[0;34m=\u001b[0m \u001b[0mnewPopulation\u001b[0m\u001b[0;34m\u001b[0m\u001b[0;34m\u001b[0m\u001b[0m\n",
      "\u001b[0;32m<ipython-input-8-6f924c2742bd>\u001b[0m in \u001b[0;36mmutate\u001b[0;34m(order, mutationRate)\u001b[0m\n\u001b[1;32m      2\u001b[0m \u001b[0;32mdef\u001b[0m \u001b[0mmutate\u001b[0m\u001b[0;34m(\u001b[0m\u001b[0morder\u001b[0m\u001b[0;34m,\u001b[0m \u001b[0mmutationRate\u001b[0m\u001b[0;34m)\u001b[0m\u001b[0;34m:\u001b[0m\u001b[0;34m\u001b[0m\u001b[0;34m\u001b[0m\u001b[0m\n\u001b[1;32m      3\u001b[0m     \u001b[0;32mfor\u001b[0m \u001b[0mi\u001b[0m \u001b[0;32min\u001b[0m \u001b[0mrange\u001b[0m\u001b[0;34m(\u001b[0m\u001b[0mnumCities\u001b[0m\u001b[0;34m)\u001b[0m\u001b[0;34m:\u001b[0m\u001b[0;34m\u001b[0m\u001b[0;34m\u001b[0m\u001b[0m\n\u001b[0;32m----> 4\u001b[0;31m         \u001b[0;32mif\u001b[0m \u001b[0mrandom\u001b[0m\u001b[0;34m.\u001b[0m\u001b[0muniform\u001b[0m\u001b[0;34m(\u001b[0m\u001b[0;36m0\u001b[0m\u001b[0;34m,\u001b[0m\u001b[0;36m1\u001b[0m\u001b[0;34m)\u001b[0m \u001b[0;34m<\u001b[0m \u001b[0mmutationRate\u001b[0m\u001b[0;34m:\u001b[0m\u001b[0;34m\u001b[0m\u001b[0;34m\u001b[0m\u001b[0m\n\u001b[0m\u001b[1;32m      5\u001b[0m             \u001b[0mindex1\u001b[0m \u001b[0;34m=\u001b[0m \u001b[0mmath\u001b[0m\u001b[0;34m.\u001b[0m\u001b[0mfloor\u001b[0m\u001b[0;34m(\u001b[0m\u001b[0mrandom\u001b[0m\u001b[0;34m.\u001b[0m\u001b[0mrandint\u001b[0m\u001b[0;34m(\u001b[0m\u001b[0;36m0\u001b[0m\u001b[0;34m,\u001b[0m \u001b[0mlen\u001b[0m\u001b[0;34m(\u001b[0m\u001b[0morder\u001b[0m\u001b[0;34m)\u001b[0m\u001b[0;34m-\u001b[0m\u001b[0;36m1\u001b[0m\u001b[0;34m)\u001b[0m\u001b[0;34m)\u001b[0m\u001b[0;34m\u001b[0m\u001b[0;34m\u001b[0m\u001b[0m\n\u001b[1;32m      6\u001b[0m             \u001b[0mindex2\u001b[0m \u001b[0;34m=\u001b[0m \u001b[0mmath\u001b[0m\u001b[0;34m.\u001b[0m\u001b[0mfloor\u001b[0m\u001b[0;34m(\u001b[0m\u001b[0mrandom\u001b[0m\u001b[0;34m.\u001b[0m\u001b[0mrandint\u001b[0m\u001b[0;34m(\u001b[0m\u001b[0;36m0\u001b[0m\u001b[0;34m,\u001b[0m \u001b[0mlen\u001b[0m\u001b[0;34m(\u001b[0m\u001b[0morder\u001b[0m\u001b[0;34m)\u001b[0m\u001b[0;34m-\u001b[0m\u001b[0;36m1\u001b[0m\u001b[0;34m)\u001b[0m\u001b[0;34m)\u001b[0m\u001b[0;34m\u001b[0m\u001b[0;34m\u001b[0m\u001b[0m\n",
      "\u001b[0;32m/usr/lib/python3.6/random.py\u001b[0m in \u001b[0;36muniform\u001b[0;34m(self, a, b)\u001b[0m\n\u001b[1;32m    371\u001b[0m     \u001b[0;32mdef\u001b[0m \u001b[0muniform\u001b[0m\u001b[0;34m(\u001b[0m\u001b[0mself\u001b[0m\u001b[0;34m,\u001b[0m \u001b[0ma\u001b[0m\u001b[0;34m,\u001b[0m \u001b[0mb\u001b[0m\u001b[0;34m)\u001b[0m\u001b[0;34m:\u001b[0m\u001b[0;34m\u001b[0m\u001b[0;34m\u001b[0m\u001b[0m\n\u001b[1;32m    372\u001b[0m         \u001b[0;34m\"Get a random number in the range [a, b) or [a, b] depending on rounding.\"\u001b[0m\u001b[0;34m\u001b[0m\u001b[0;34m\u001b[0m\u001b[0m\n\u001b[0;32m--> 373\u001b[0;31m         \u001b[0;32mreturn\u001b[0m \u001b[0ma\u001b[0m \u001b[0;34m+\u001b[0m \u001b[0;34m(\u001b[0m\u001b[0mb\u001b[0m\u001b[0;34m-\u001b[0m\u001b[0ma\u001b[0m\u001b[0;34m)\u001b[0m \u001b[0;34m*\u001b[0m \u001b[0mself\u001b[0m\u001b[0;34m.\u001b[0m\u001b[0mrandom\u001b[0m\u001b[0;34m(\u001b[0m\u001b[0;34m)\u001b[0m\u001b[0;34m\u001b[0m\u001b[0;34m\u001b[0m\u001b[0m\n\u001b[0m\u001b[1;32m    374\u001b[0m \u001b[0;34m\u001b[0m\u001b[0m\n\u001b[1;32m    375\u001b[0m \u001b[0;31m## -------------------- triangular --------------------\u001b[0m\u001b[0;34m\u001b[0m\u001b[0;34m\u001b[0m\u001b[0;34m\u001b[0m\u001b[0m\n",
      "\u001b[0;31mKeyboardInterrupt\u001b[0m: "
     ]
    }
   ],
   "source": [
    "%%time\n",
    "print(\"Searching good path...\")\n",
    "\n",
    "for i in range(1000):\n",
    "    calculateFitness()\n",
    "    normalizeFitness()\n",
    "    nextGeneration()\n",
    "    print (\"[\" + str(i) + \"/1000\" +\"] \" + \"Current best order: \" + str(bestEver) + \" with a distance of \" + str(recordDistance), end=\"\\r\")\n",
    "    \n",
    "clear_output()\n",
    "print(\"Best path found: \" + str(bestEver) + \" with a length of \" + str(recordDistance))\n",
    "\n"
   ]
  },
  {
   "cell_type": "code",
   "execution_count": 35,
   "metadata": {},
   "outputs": [
    {
     "name": "stdout",
     "output_type": "stream",
     "text": [
      "[8/1000] Current best order: [0, 9, 1, 4, 8, 6, 5, 2, 7, 3] with a distance of 45.9155472066677259\r"
     ]
    },
    {
     "ename": "KeyboardInterrupt",
     "evalue": "",
     "output_type": "error",
     "traceback": [
      "\u001b[0;31m---------------------------------------------------------------------------\u001b[0m",
      "\u001b[0;31mKeyboardInterrupt\u001b[0m                         Traceback (most recent call last)",
      "\u001b[0;32m<ipython-input-35-f2d6271a0de8>\u001b[0m in \u001b[0;36m<module>\u001b[0;34m\u001b[0m\n\u001b[1;32m     19\u001b[0m \u001b[0;34m\u001b[0m\u001b[0m\n\u001b[1;32m     20\u001b[0m     \u001b[0mcalculateFitness\u001b[0m\u001b[0;34m(\u001b[0m\u001b[0;34m)\u001b[0m\u001b[0;34m\u001b[0m\u001b[0;34m\u001b[0m\u001b[0m\n\u001b[0;32m---> 21\u001b[0;31m     \u001b[0mnormalizeFitness\u001b[0m\u001b[0;34m(\u001b[0m\u001b[0;34m)\u001b[0m\u001b[0;34m\u001b[0m\u001b[0;34m\u001b[0m\u001b[0m\n\u001b[0m\u001b[1;32m     22\u001b[0m     \u001b[0mnextGeneration\u001b[0m\u001b[0;34m(\u001b[0m\u001b[0;34m)\u001b[0m\u001b[0;34m\u001b[0m\u001b[0;34m\u001b[0m\u001b[0m\n\u001b[1;32m     23\u001b[0m     \u001b[0mprint\u001b[0m \u001b[0;34m(\u001b[0m\u001b[0;34m\"[\"\u001b[0m \u001b[0;34m+\u001b[0m \u001b[0mstr\u001b[0m\u001b[0;34m(\u001b[0m\u001b[0mi\u001b[0m\u001b[0;34m)\u001b[0m \u001b[0;34m+\u001b[0m \u001b[0;34m\"/1000\"\u001b[0m \u001b[0;34m+\u001b[0m\u001b[0;34m\"] \"\u001b[0m \u001b[0;34m+\u001b[0m \u001b[0;34m\"Current best order: \"\u001b[0m \u001b[0;34m+\u001b[0m \u001b[0mstr\u001b[0m\u001b[0;34m(\u001b[0m\u001b[0mbestEver\u001b[0m\u001b[0;34m)\u001b[0m \u001b[0;34m+\u001b[0m \u001b[0;34m\" with a distance of \"\u001b[0m \u001b[0;34m+\u001b[0m \u001b[0mstr\u001b[0m\u001b[0;34m(\u001b[0m\u001b[0mrecordDistance\u001b[0m\u001b[0;34m)\u001b[0m\u001b[0;34m,\u001b[0m \u001b[0mend\u001b[0m\u001b[0;34m=\u001b[0m\u001b[0;34m\"\\r\"\u001b[0m\u001b[0;34m)\u001b[0m\u001b[0;34m\u001b[0m\u001b[0;34m\u001b[0m\u001b[0m\n",
      "\u001b[0;32m<ipython-input-30-e27e76a0f300>\u001b[0m in \u001b[0;36mnormalizeFitness\u001b[0;34m()\u001b[0m\n\u001b[1;32m      5\u001b[0m         \u001b[0mtheSUM\u001b[0m \u001b[0;34m+=\u001b[0m \u001b[0mfitness\u001b[0m\u001b[0;34m[\u001b[0m\u001b[0mi\u001b[0m\u001b[0;34m]\u001b[0m\u001b[0;34m\u001b[0m\u001b[0;34m\u001b[0m\u001b[0m\n\u001b[1;32m      6\u001b[0m     \u001b[0;32mfor\u001b[0m \u001b[0mi\u001b[0m \u001b[0;32min\u001b[0m \u001b[0mrange\u001b[0m\u001b[0;34m(\u001b[0m\u001b[0mlen\u001b[0m\u001b[0;34m(\u001b[0m\u001b[0mfitness\u001b[0m\u001b[0;34m)\u001b[0m\u001b[0;34m)\u001b[0m\u001b[0;34m:\u001b[0m\u001b[0;34m\u001b[0m\u001b[0;34m\u001b[0m\u001b[0m\n\u001b[0;32m----> 7\u001b[0;31m         \u001b[0mfitness\u001b[0m\u001b[0;34m[\u001b[0m\u001b[0mi\u001b[0m\u001b[0;34m]\u001b[0m \u001b[0;34m=\u001b[0m \u001b[0mfitness\u001b[0m\u001b[0;34m[\u001b[0m\u001b[0mi\u001b[0m\u001b[0;34m]\u001b[0m \u001b[0;34m/\u001b[0m \u001b[0mtheSUM\u001b[0m\u001b[0;34m\u001b[0m\u001b[0;34m\u001b[0m\u001b[0m\n\u001b[0m",
      "\u001b[0;31mKeyboardInterrupt\u001b[0m: "
     ]
    }
   ],
   "source": [
    "import pygame\n",
    "from math import pi\n",
    "pygame.init()\n",
    "\n",
    "screen = pygame.display.set_mode((400, 400))\n",
    "WHITE = pygame.Color(255, 255, 255)\n",
    "RED = pygame.Color(255, 0, 0) \n",
    "BLACK = pygame.Color(0, 0, 0) \n",
    "\n",
    "size = (400, 400)\n",
    "radius = 5\n",
    "\n",
    "canvas = pygame.Surface(size)\n",
    "\n",
    "while True:\n",
    "    for event in pygame.event.get():\n",
    "        if event.type == pygame.QUIT:\n",
    "            quit()\n",
    "    \n",
    "    calculateFitness()\n",
    "    normalizeFitness()\n",
    "    nextGeneration()\n",
    "    print (\"Current best order: \" + str(bestEver) + \" with a distance of \" + str(recordDistance), end=\"\\r\")\n",
    "    \n",
    "    canvas.fill(BLACK)\n",
    "    \n",
    "    for city in cities:\n",
    "        pygame.draw.circle(canvas, RED, (city[0]*20, city[1]*20), radius)\n",
    "\n",
    "    for i in range(len(bestEver)-1):\n",
    "        pygame.draw.line(canvas, WHITE, (cities[bestEver[i]][0]*20, cities[bestEver[i]][1]*20), (cities[bestEver[i+1]][0]*20, cities[bestEver[i+1]][1]*20))\n",
    "    \n",
    "    screen.blit(canvas,(0, 0))\n",
    "    pygame.display.update()"
   ]
  },
  {
   "cell_type": "code",
   "execution_count": null,
   "metadata": {},
   "outputs": [],
   "source": []
  }
 ],
 "metadata": {
  "kernelspec": {
   "display_name": "Python 3",
   "language": "python",
   "name": "python3"
  },
  "language_info": {
   "codemirror_mode": {
    "name": "ipython",
    "version": 3
   },
   "file_extension": ".py",
   "mimetype": "text/x-python",
   "name": "python",
   "nbconvert_exporter": "python",
   "pygments_lexer": "ipython3",
   "version": "3.6.9"
  }
 },
 "nbformat": 4,
 "nbformat_minor": 4
}
