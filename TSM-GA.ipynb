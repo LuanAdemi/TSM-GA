{
 "cells": [
  {
   "cell_type": "markdown",
   "metadata": {},
   "source": [
    "# Traveling Salesman Problem Algorithm using Genetic Algorithms\n",
    "\n",
    "This notebook implements a genetic algorithm, that tries to \"solve\" the traveling salesman problem."
   ]
  },
  {
   "cell_type": "code",
   "execution_count": 145,
   "metadata": {},
   "outputs": [],
   "source": [
    "import random\n",
    "import math\n",
    "from IPython.core.debugger import set_trace\n",
    "from IPython.display import clear_output"
   ]
  },
  {
   "cell_type": "code",
   "execution_count": 146,
   "metadata": {},
   "outputs": [],
   "source": [
    "cities = []\n",
    "numCities = 10\n",
    "\n",
    "# The total size of the area, in which we will generate the cities\n",
    "areaX = 20\n",
    "areaY = 20\n",
    "\n",
    "bestEver = []\n",
    "recordDistance = 1e7\n",
    "currentBest = []\n",
    "\n",
    "population = []\n",
    "numPopulation = 600\n",
    "fitness = []\n",
    "\n",
    "masterOrder = [x for x in range(numCities)]\n",
    "# generate a random cities with position tuples of (x,y)\n",
    "for i in range(numCities):\n",
    "    newCity = (random.randint(1,areaX), random.randint(1,areaX))\n",
    "    \n",
    "    while newCity in cities:\n",
    "        newCity = (random.randint(1,areaX), random.randint(1,areaY))\n",
    "        \n",
    "    cities.append(newCity)\n",
    "    "
   ]
  },
  {
   "cell_type": "code",
   "execution_count": 147,
   "metadata": {},
   "outputs": [],
   "source": [
    "# generate a population for the genetic algorithm\n",
    "for i in range(numPopulation):\n",
    "    order = random.sample(masterOrder, k=len(masterOrder))\n",
    "    population.append(order)"
   ]
  },
  {
   "cell_type": "code",
   "execution_count": 148,
   "metadata": {},
   "outputs": [],
   "source": [
    "# calculates the distance of a give order\n",
    "def calcDistance(order):\n",
    "    dist = 0\n",
    "    for i in range(len(order)-1):\n",
    "        #set_trace()\n",
    "        dist += math.sqrt( (cities[order[i+1]][0] - cities[order[i]][0])**2 + (cities[order[i+1]][1] - cities[order[i]][1])**2 )\n",
    "    return dist"
   ]
  },
  {
   "cell_type": "code",
   "execution_count": 149,
   "metadata": {},
   "outputs": [],
   "source": [
    "# calculates the fitness values for the generated population\n",
    "def calculateFitness():\n",
    "    currentRecord = 1e7\n",
    "    global recordDistance, bestEver\n",
    "    for i in range(numPopulation):\n",
    "        # calculate the distance of the orders in the population\n",
    "        distance = calcDistance(population[i])\n",
    "        \n",
    "        # if the ditance is better than what we have ever seen before, save it\n",
    "        if distance < recordDistance:\n",
    "            recordDistance = distance\n",
    "            bestEver = population[i]\n",
    "        \n",
    "        # if the ditance is better than what we have seen before in the population, save it\n",
    "        if distance < currentRecord:\n",
    "            currentRecord = distance\n",
    "            currentBest = population[i]\n",
    "            \n",
    "        fitness.append( 1 / (pow(distance, 8) + 1))\n",
    "        "
   ]
  },
  {
   "cell_type": "code",
   "execution_count": 150,
   "metadata": {},
   "outputs": [],
   "source": [
    "# normalize the fitness\n",
    "def normalizeFitness():\n",
    "    theSUM = 0\n",
    "    for i in range(len(fitness)):\n",
    "        theSUM += fitness[i]\n",
    "    for i in range(len(fitness)):\n",
    "        fitness[i] = fitness[i] / theSUM"
   ]
  },
  {
   "cell_type": "code",
   "execution_count": 151,
   "metadata": {},
   "outputs": [],
   "source": [
    "# pickes an element of a list by it's given probability\n",
    "def pickOne(ls,prob):\n",
    "    index = 0\n",
    "    r = random.uniform(0,1)\n",
    "    \n",
    "    while r > 0:\n",
    "        r = r - prob[index]\n",
    "        index += 1\n",
    "    \n",
    "    index -= 1\n",
    "    \n",
    "    return ls[index]"
   ]
  },
  {
   "cell_type": "code",
   "execution_count": 152,
   "metadata": {},
   "outputs": [],
   "source": [
    "# randomly mutates out order\n",
    "def mutate(order, mutationRate):\n",
    "    for i in range(numCities):\n",
    "        if random.uniform(0,1) < mutationRate:\n",
    "            index1 = math.floor(random.randint(0, len(order)-1))\n",
    "            index2 = math.floor(random.randint(0, len(order)-1))\n",
    "            #set_trace()\n",
    "            order[index1], order[index2] = order[index2], order[index1]\n",
    "            "
   ]
  },
  {
   "cell_type": "code",
   "execution_count": 153,
   "metadata": {},
   "outputs": [],
   "source": [
    "def crossOver(order1, order2):\n",
    "    start = math.floor(random.randint(0,len(order1)))\n",
    "    end = math.floor(random.randint(start,len(order1)))\n",
    "    neworder = order1[start:end]\n",
    "    #set_trace()\n",
    "    for i in range(len(order2)):\n",
    "        city = order2[i]\n",
    "        if city not in neworder:\n",
    "            neworder.append(city)\n",
    "    return neworder"
   ]
  },
  {
   "cell_type": "code",
   "execution_count": 154,
   "metadata": {},
   "outputs": [],
   "source": [
    "def nextGeneration():\n",
    "    newPopulation = []\n",
    "    global population\n",
    "    for i in range(numPopulation):\n",
    "        order1 = pickOne(population, fitness)\n",
    "        order2 = pickOne(population, fitness)\n",
    "        order = crossOver(order1, order2)\n",
    "        mutate(order,0.3)\n",
    "        newPopulation.append(order)\n",
    "    population = newPopulation"
   ]
  },
  {
   "cell_type": "code",
   "execution_count": null,
   "metadata": {},
   "outputs": [
    {
     "name": "stdout",
     "output_type": "stream",
     "text": [
      "Current best order: [5, 4, 7, 2, 3, 1, 6, 0, 8, 9] with a distance of 45.860515592134544\r"
     ]
    }
   ],
   "source": [
    "import pygame\n",
    "from math import pi\n",
    "pygame.init()\n",
    "\n",
    "screen = pygame.display.set_mode((500, 500))\n",
    "WHITE = pygame.Color(255, 255, 255)\n",
    "RED = pygame.Color(255, 0, 0) \n",
    "BLACK = pygame.Color(0, 0, 0) \n",
    "\n",
    "size = (500, 500)\n",
    "radius = 5\n",
    "\n",
    "canvas = pygame.Surface(size)\n",
    "\n",
    "while True:\n",
    "    for event in pygame.event.get():\n",
    "        if event.type == pygame.QUIT:\n",
    "            quit()\n",
    "    \n",
    "    calculateFitness()\n",
    "    normalizeFitness()\n",
    "    nextGeneration()\n",
    "    print (\"Current best order: \" + str(bestEver) + \" with a distance of \" + str(recordDistance), end=\"\\r\")\n",
    "    \n",
    "    canvas.fill(BLACK)\n",
    "    \n",
    "    for city in cities:\n",
    "        pygame.draw.circle(canvas, RED, (city[0]*20, city[1]*20), radius)\n",
    "\n",
    "    for i in range(len(bestEver)-1):\n",
    "        pygame.draw.line(canvas, WHITE, (cities[bestEver[i]][0]*20, cities[bestEver[i]][1]*20), (cities[bestEver[i+1]][0]*20, cities[bestEver[i+1]][1]*20))\n",
    "    \n",
    "    screen.blit(canvas,(0, 0))\n",
    "    pygame.display.update()"
   ]
  },
  {
   "cell_type": "code",
   "execution_count": null,
   "metadata": {},
   "outputs": [],
   "source": []
  }
 ],
 "metadata": {
  "kernelspec": {
   "display_name": "Python 3",
   "language": "python",
   "name": "python3"
  },
  "language_info": {
   "codemirror_mode": {
    "name": "ipython",
    "version": 3
   },
   "file_extension": ".py",
   "mimetype": "text/x-python",
   "name": "python",
   "nbconvert_exporter": "python",
   "pygments_lexer": "ipython3",
   "version": "3.6.9"
  }
 },
 "nbformat": 4,
 "nbformat_minor": 4
}
